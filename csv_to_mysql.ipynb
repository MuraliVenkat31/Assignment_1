{
 "cells": [
  {
   "cell_type": "code",
   "execution_count": 19,
   "id": "dc9f9061-c530-4398-94c7-e3e08b71a567",
   "metadata": {},
   "outputs": [],
   "source": [
    "import mysql.connector as db\n",
    "import pandas as pd\n",
    "import numpy as np"
   ]
  },
  {
   "cell_type": "code",
   "execution_count": 11,
   "id": "7691841c-e401-4429-8589-27e08c491949",
   "metadata": {},
   "outputs": [
    {
     "data": {
      "text/html": [
       "<div>\n",
       "<style scoped>\n",
       "    .dataframe tbody tr th:only-of-type {\n",
       "        vertical-align: middle;\n",
       "    }\n",
       "\n",
       "    .dataframe tbody tr th {\n",
       "        vertical-align: top;\n",
       "    }\n",
       "\n",
       "    .dataframe thead th {\n",
       "        text-align: right;\n",
       "    }\n",
       "</style>\n",
       "<table border=\"1\" class=\"dataframe\">\n",
       "  <thead>\n",
       "    <tr style=\"text-align: right;\">\n",
       "      <th></th>\n",
       "      <th>Bus_name</th>\n",
       "      <th>Bus_type</th>\n",
       "      <th>Start_time</th>\n",
       "      <th>End_time</th>\n",
       "      <th>Total_duration</th>\n",
       "      <th>Price</th>\n",
       "      <th>Seats_Available</th>\n",
       "      <th>Ratings</th>\n",
       "      <th>Route_link</th>\n",
       "      <th>Route_name</th>\n",
       "    </tr>\n",
       "  </thead>\n",
       "  <tbody>\n",
       "    <tr>\n",
       "      <th>0</th>\n",
       "      <td>KSRTC (Kerala) - 581</td>\n",
       "      <td>Super Express Non AC Seater Air Bus (2+2)</td>\n",
       "      <td>10:03</td>\n",
       "      <td>18:48</td>\n",
       "      <td>08h 45m</td>\n",
       "      <td>INR 469</td>\n",
       "      <td>4 Seats available</td>\n",
       "      <td>4.1\\n78</td>\n",
       "      <td>https://www.redbus.in/bus-tickets/bangalore-to...</td>\n",
       "      <td>Bangalore to Kozhikode</td>\n",
       "    </tr>\n",
       "    <tr>\n",
       "      <th>1</th>\n",
       "      <td>KSRTC (Kerala) - 52</td>\n",
       "      <td>SWIFT-GARUDA A/C SEATER BUS</td>\n",
       "      <td>12:01</td>\n",
       "      <td>19:55</td>\n",
       "      <td>07h 54m</td>\n",
       "      <td>INR 627</td>\n",
       "      <td>8 Seats available</td>\n",
       "      <td>3.6\\n105</td>\n",
       "      <td>https://www.redbus.in/bus-tickets/bangalore-to...</td>\n",
       "      <td>Bangalore to Kozhikode</td>\n",
       "    </tr>\n",
       "    <tr>\n",
       "      <th>2</th>\n",
       "      <td>KSRTC (Kerala) - 1210</td>\n",
       "      <td>SWIFT-HYBRID NON AC SEATER CUM SLEEPER</td>\n",
       "      <td>12:55</td>\n",
       "      <td>21:15</td>\n",
       "      <td>08h 20m</td>\n",
       "      <td>INR 567</td>\n",
       "      <td>10 Seats available</td>\n",
       "      <td>3.8\\n20</td>\n",
       "      <td>https://www.redbus.in/bus-tickets/bangalore-to...</td>\n",
       "      <td>Bangalore to Kozhikode</td>\n",
       "    </tr>\n",
       "    <tr>\n",
       "      <th>3</th>\n",
       "      <td>KSRTC (Kerala) - 235</td>\n",
       "      <td>Swift Deluxe Non AC Air Bus (2+2)</td>\n",
       "      <td>15:00</td>\n",
       "      <td>00:01</td>\n",
       "      <td>09h 01m</td>\n",
       "      <td>INR 620</td>\n",
       "      <td>28 Seats available</td>\n",
       "      <td>4.6\\n13</td>\n",
       "      <td>https://www.redbus.in/bus-tickets/bangalore-to...</td>\n",
       "      <td>Bangalore to Kozhikode</td>\n",
       "    </tr>\n",
       "    <tr>\n",
       "      <th>4</th>\n",
       "      <td>KSRTC (Kerala) - 370</td>\n",
       "      <td>AC MULTI AXLE</td>\n",
       "      <td>15:25</td>\n",
       "      <td>22:20</td>\n",
       "      <td>06h 55m</td>\n",
       "      <td>INR 729</td>\n",
       "      <td>22 Seats available</td>\n",
       "      <td>2.5\\n37</td>\n",
       "      <td>https://www.redbus.in/bus-tickets/bangalore-to...</td>\n",
       "      <td>Bangalore to Kozhikode</td>\n",
       "    </tr>\n",
       "    <tr>\n",
       "      <th>...</th>\n",
       "      <td>...</td>\n",
       "      <td>...</td>\n",
       "      <td>...</td>\n",
       "      <td>...</td>\n",
       "      <td>...</td>\n",
       "      <td>...</td>\n",
       "      <td>...</td>\n",
       "      <td>...</td>\n",
       "      <td>...</td>\n",
       "      <td>...</td>\n",
       "    </tr>\n",
       "    <tr>\n",
       "      <th>2437</th>\n",
       "      <td>Shyamoli Paribahan Pvt Ltd</td>\n",
       "      <td>Volvo A/C Seater (2+2)</td>\n",
       "      <td>16:40</td>\n",
       "      <td>21:40</td>\n",
       "      <td>05h 00m</td>\n",
       "      <td>INR 524</td>\n",
       "      <td>24 Seats available</td>\n",
       "      <td>4.3\\n57</td>\n",
       "      <td>https://www.redbus.in/bus-tickets/kolkata-to-a...</td>\n",
       "      <td>Kolkata to Asansol (West Bengal)</td>\n",
       "    </tr>\n",
       "    <tr>\n",
       "      <th>2438</th>\n",
       "      <td>Greenline (Karunamoyee)</td>\n",
       "      <td>Volvo A/C Seater (2+2)</td>\n",
       "      <td>16:45</td>\n",
       "      <td>21:45</td>\n",
       "      <td>05h 00m</td>\n",
       "      <td>INR 524</td>\n",
       "      <td>28 Seats available</td>\n",
       "      <td>4.2\\n85</td>\n",
       "      <td>https://www.redbus.in/bus-tickets/kolkata-to-a...</td>\n",
       "      <td>Kolkata to Asansol (West Bengal)</td>\n",
       "    </tr>\n",
       "    <tr>\n",
       "      <th>2439</th>\n",
       "      <td>Express Line</td>\n",
       "      <td>Volvo 9600 A/C Semi Sleeper (2+2)</td>\n",
       "      <td>17:20</td>\n",
       "      <td>22:20</td>\n",
       "      <td>05h 00m</td>\n",
       "      <td>INR 524</td>\n",
       "      <td>44 Seats available</td>\n",
       "      <td>4.6\\n70</td>\n",
       "      <td>https://www.redbus.in/bus-tickets/kolkata-to-a...</td>\n",
       "      <td>Kolkata to Asansol (West Bengal)</td>\n",
       "    </tr>\n",
       "    <tr>\n",
       "      <th>2440</th>\n",
       "      <td>SHYAMOLI Pvt. Ltd.(Karunamoyee)</td>\n",
       "      <td>Volvo A/C Seater (2+2)</td>\n",
       "      <td>17:30</td>\n",
       "      <td>22:30</td>\n",
       "      <td>05h 00m</td>\n",
       "      <td>INR 524</td>\n",
       "      <td>26 Seats available</td>\n",
       "      <td>4.1\\n135</td>\n",
       "      <td>https://www.redbus.in/bus-tickets/kolkata-to-a...</td>\n",
       "      <td>Kolkata to Asansol (West Bengal)</td>\n",
       "    </tr>\n",
       "    <tr>\n",
       "      <th>2441</th>\n",
       "      <td>Greenline</td>\n",
       "      <td>Volvo A/C Seater (2+2)</td>\n",
       "      <td>18:05</td>\n",
       "      <td>23:05</td>\n",
       "      <td>05h 00m</td>\n",
       "      <td>INR 524</td>\n",
       "      <td>36 Seats available</td>\n",
       "      <td>4.1\\n33</td>\n",
       "      <td>https://www.redbus.in/bus-tickets/kolkata-to-a...</td>\n",
       "      <td>Kolkata to Asansol (West Bengal)</td>\n",
       "    </tr>\n",
       "  </tbody>\n",
       "</table>\n",
       "<p>2442 rows × 10 columns</p>\n",
       "</div>"
      ],
      "text/plain": [
       "                             Bus_name  \\\n",
       "0                KSRTC (Kerala) - 581   \n",
       "1                 KSRTC (Kerala) - 52   \n",
       "2               KSRTC (Kerala) - 1210   \n",
       "3                KSRTC (Kerala) - 235   \n",
       "4                KSRTC (Kerala) - 370   \n",
       "...                               ...   \n",
       "2437       Shyamoli Paribahan Pvt Ltd   \n",
       "2438          Greenline (Karunamoyee)   \n",
       "2439                     Express Line   \n",
       "2440  SHYAMOLI Pvt. Ltd.(Karunamoyee)   \n",
       "2441                        Greenline   \n",
       "\n",
       "                                       Bus_type Start_time End_time  \\\n",
       "0     Super Express Non AC Seater Air Bus (2+2)      10:03    18:48   \n",
       "1                   SWIFT-GARUDA A/C SEATER BUS      12:01    19:55   \n",
       "2        SWIFT-HYBRID NON AC SEATER CUM SLEEPER      12:55    21:15   \n",
       "3             Swift Deluxe Non AC Air Bus (2+2)      15:00    00:01   \n",
       "4                                 AC MULTI AXLE      15:25    22:20   \n",
       "...                                         ...        ...      ...   \n",
       "2437                     Volvo A/C Seater (2+2)      16:40    21:40   \n",
       "2438                     Volvo A/C Seater (2+2)      16:45    21:45   \n",
       "2439          Volvo 9600 A/C Semi Sleeper (2+2)      17:20    22:20   \n",
       "2440                     Volvo A/C Seater (2+2)      17:30    22:30   \n",
       "2441                     Volvo A/C Seater (2+2)      18:05    23:05   \n",
       "\n",
       "     Total_duration    Price     Seats_Available   Ratings  \\\n",
       "0           08h 45m  INR 469   4 Seats available   4.1\\n78   \n",
       "1           07h 54m  INR 627   8 Seats available  3.6\\n105   \n",
       "2           08h 20m  INR 567  10 Seats available   3.8\\n20   \n",
       "3           09h 01m  INR 620  28 Seats available   4.6\\n13   \n",
       "4           06h 55m  INR 729  22 Seats available   2.5\\n37   \n",
       "...             ...      ...                 ...       ...   \n",
       "2437        05h 00m  INR 524  24 Seats available   4.3\\n57   \n",
       "2438        05h 00m  INR 524  28 Seats available   4.2\\n85   \n",
       "2439        05h 00m  INR 524  44 Seats available   4.6\\n70   \n",
       "2440        05h 00m  INR 524  26 Seats available  4.1\\n135   \n",
       "2441        05h 00m  INR 524  36 Seats available   4.1\\n33   \n",
       "\n",
       "                                             Route_link  \\\n",
       "0     https://www.redbus.in/bus-tickets/bangalore-to...   \n",
       "1     https://www.redbus.in/bus-tickets/bangalore-to...   \n",
       "2     https://www.redbus.in/bus-tickets/bangalore-to...   \n",
       "3     https://www.redbus.in/bus-tickets/bangalore-to...   \n",
       "4     https://www.redbus.in/bus-tickets/bangalore-to...   \n",
       "...                                                 ...   \n",
       "2437  https://www.redbus.in/bus-tickets/kolkata-to-a...   \n",
       "2438  https://www.redbus.in/bus-tickets/kolkata-to-a...   \n",
       "2439  https://www.redbus.in/bus-tickets/kolkata-to-a...   \n",
       "2440  https://www.redbus.in/bus-tickets/kolkata-to-a...   \n",
       "2441  https://www.redbus.in/bus-tickets/kolkata-to-a...   \n",
       "\n",
       "                            Route_name  \n",
       "0               Bangalore to Kozhikode  \n",
       "1               Bangalore to Kozhikode  \n",
       "2               Bangalore to Kozhikode  \n",
       "3               Bangalore to Kozhikode  \n",
       "4               Bangalore to Kozhikode  \n",
       "...                                ...  \n",
       "2437  Kolkata to Asansol (West Bengal)  \n",
       "2438  Kolkata to Asansol (West Bengal)  \n",
       "2439  Kolkata to Asansol (West Bengal)  \n",
       "2440  Kolkata to Asansol (West Bengal)  \n",
       "2441  Kolkata to Asansol (West Bengal)  \n",
       "\n",
       "[2442 rows x 10 columns]"
      ]
     },
     "execution_count": 11,
     "metadata": {},
     "output_type": "execute_result"
    }
   ],
   "source": [
    "# csv to dataframe\n",
    "df_buses_1=pd.read_csv(r\"C:\\Users\\mural\\OneDrive\\Desktop\\RedBus\\df_buses_1.csv\")\n",
    "df_buses_2=pd.read_csv(r\"C:\\Users\\mural\\OneDrive\\Desktop\\RedBus\\df_buses_2.csv\")\n",
    "df_buses_3=pd.read_csv(r\"C:\\Users\\mural\\OneDrive\\Desktop\\RedBus\\df_buses_3.csv\")\n",
    "df_buses_4=pd.read_csv(r\"C:\\Users\\mural\\OneDrive\\Desktop\\RedBus\\df_buses_4.csv\")\n",
    "df_buses_5=pd.read_csv(r\"C:\\Users\\mural\\OneDrive\\Desktop\\RedBus\\df_buses_R.csv\")\n",
    "df_buses_6=pd.read_csv(r\"C:\\Users\\mural\\OneDrive\\Desktop\\RedBus\\df_buses_6.csv\")\n",
    "df_buses_7=pd.read_csv(r\"C:\\Users\\mural\\OneDrive\\Desktop\\RedBus\\df_buses_7.csv\")\n",
    "df_buses_8=pd.read_csv(r\"C:\\Users\\mural\\OneDrive\\Desktop\\RedBus\\df_buses_8.csv\")\n",
    "df_buses_9=pd.read_csv(r\"C:\\Users\\mural\\OneDrive\\Desktop\\RedBus\\df_buses_9.csv\")\n",
    "df_buses_10=pd.read_csv(r\"C:\\Users\\mural\\OneDrive\\Desktop\\RedBus\\df_buses_10.csv\")\n",
    "\n",
    "Final_df=pd.concat([df_buses_1,df_buses_2,df_buses_3,df_buses_4,df_buses_5,df_buses_6,\n",
    "                    df_buses_7,df_buses_8,df_buses_9,df_buses_10],ignore_index=True)\n",
    "Final_df"
   ]
  },
  {
   "cell_type": "markdown",
   "id": "7db69a6f-8bf6-4294-b207-735f7614296a",
   "metadata": {},
   "source": [
    "## DATA CLEANING"
   ]
  },
  {
   "cell_type": "code",
   "execution_count": 13,
   "id": "17a6e911-69e5-4eb7-8257-6e87fa1f47dd",
   "metadata": {},
   "outputs": [
    {
     "name": "stdout",
     "output_type": "stream",
     "text": [
      "<class 'pandas.core.frame.DataFrame'>\n",
      "RangeIndex: 2442 entries, 0 to 2441\n",
      "Data columns (total 10 columns):\n",
      " #   Column           Non-Null Count  Dtype \n",
      "---  ------           --------------  ----- \n",
      " 0   Bus_name         2416 non-null   object\n",
      " 1   Bus_type         2414 non-null   object\n",
      " 2   Start_time       2416 non-null   object\n",
      " 3   End_time         2416 non-null   object\n",
      " 4   Total_duration   2416 non-null   object\n",
      " 5   Price            2416 non-null   object\n",
      " 6   Seats_Available  2416 non-null   object\n",
      " 7   Ratings          2416 non-null   object\n",
      " 8   Route_link       2442 non-null   object\n",
      " 9   Route_name       2442 non-null   object\n",
      "dtypes: object(10)\n",
      "memory usage: 190.9+ KB\n"
     ]
    }
   ],
   "source": [
    "# data about the data\n",
    "Final_df.info()"
   ]
  },
  {
   "cell_type": "code",
   "execution_count": null,
   "id": "48e3eb5d-6862-4b4a-b78f-ee690ba58d28",
   "metadata": {},
   "outputs": [],
   "source": [
    "#convert prices to numeric\n",
    "Final_df[\"Price\"]=Final_df[\"Price\"].str.replace(\"INR\",\"\")\n",
    "Final_df[\"Price\"]=Final_df[\"Price\"].astype(float)\n",
    "Final_df[\"Price\"].fillna(0) "
   ]
  },
  {
   "cell_type": "code",
   "execution_count": null,
   "id": "1c67101e-8d90-4967-86d5-470435757b20",
   "metadata": {},
   "outputs": [],
   "source": [
    "#convert Ratings to numeric\n",
    "Final_df[\"Ratings\"]=Final_df[\"Ratings\"].str.replace(\"New\",\"\")\n",
    "Final_df[\"Ratings\"]=Final_df[\"Ratings\"].str.strip()\n",
    "Final_df[\"Ratings\"]=Final_df[\"Ratings\"].str.split().str[0]\n",
    "Final_df[\"Ratings\"] = pd.to_numeric(Final_df[\"Ratings\"], errors='coerce')\n",
    "Final_df[\"Ratings\"].fillna(0,inplace=True) "
   ]
  },
  {
   "cell_type": "code",
   "execution_count": 25,
   "id": "d7d483c4-56f4-4c59-80a2-d6141ad96f81",
   "metadata": {},
   "outputs": [
    {
     "name": "stdout",
     "output_type": "stream",
     "text": [
      "<class 'pandas.core.frame.DataFrame'>\n",
      "RangeIndex: 2442 entries, 0 to 2441\n",
      "Data columns (total 10 columns):\n",
      " #   Column           Non-Null Count  Dtype  \n",
      "---  ------           --------------  -----  \n",
      " 0   Bus_name         2416 non-null   object \n",
      " 1   Bus_type         2414 non-null   object \n",
      " 2   Start_time       2416 non-null   object \n",
      " 3   End_time         2416 non-null   object \n",
      " 4   Total_duration   2416 non-null   object \n",
      " 5   Price            2416 non-null   float64\n",
      " 6   Seats_Available  2416 non-null   object \n",
      " 7   Ratings          2442 non-null   float64\n",
      " 8   Route_link       2442 non-null   object \n",
      " 9   Route_name       2442 non-null   object \n",
      "dtypes: float64(2), object(8)\n",
      "memory usage: 190.9+ KB\n"
     ]
    }
   ],
   "source": [
    "# info after the data type change\n",
    "Final_df.info()"
   ]
  },
  {
   "cell_type": "code",
   "execution_count": 27,
   "id": "4df42dbd-0069-400d-acf2-3ccf5722a017",
   "metadata": {},
   "outputs": [],
   "source": [
    "Final_df = Final_df[Final_df[\"Price\"] <= 7000]"
   ]
  },
  {
   "cell_type": "code",
   "execution_count": 41,
   "id": "f8f2aba5-9094-46af-9e43-c985920e469e",
   "metadata": {},
   "outputs": [],
   "source": [
    "# replacing the nan value\n",
    "Final_df = Final_df.replace({np.nan: None})"
   ]
  },
  {
   "cell_type": "code",
   "execution_count": 31,
   "id": "460a21f1-7637-4b43-b948-e46b8da8c8b1",
   "metadata": {},
   "outputs": [],
   "source": [
    "# change dataframe to csv\n",
    "path=r\"C:\\Users\\mural\\OneDrive\\Desktop\\RedBus\\Final_busdetails_df.csv\"\n",
    "Final_df.to_csv(path,index=False)"
   ]
  },
  {
   "cell_type": "markdown",
   "id": "1cda83fe-3865-4cdb-8525-32dd109a7c3d",
   "metadata": {},
   "source": [
    "## Create a mysql database"
   ]
  },
  {
   "cell_type": "code",
   "execution_count": 55,
   "id": "ac833408-1262-45d2-9a83-3f777ea81beb",
   "metadata": {},
   "outputs": [],
   "source": [
    "db_connection = db.connect(\n",
    "    host = \"localhost\",\n",
    "    user = \"murali\",\n",
    "    password = \"root\",\n",
    "    database = \"bus_routes\"\n",
    ")\n",
    "my_cursor = db_connection.cursor()\n",
    "my_cursor.execute(\"CREATE DATABASE IF NOT EXISTS RED_BUS_DETAILS\")"
   ]
  },
  {
   "cell_type": "code",
   "execution_count": 57,
   "id": "0cbd0420-1e21-49ca-9a1a-05eca5320e4a",
   "metadata": {},
   "outputs": [
    {
     "name": "stdout",
     "output_type": "stream",
     "text": [
      "Table Created successfully\n"
     ]
    }
   ],
   "source": [
    "# Table Creation\n",
    "my_cursor.execute('''CREATE TABLE IF NOT EXISTS bus_details(\n",
    "                  ID INT AUTO_INCREMENT PRIMARY KEY,\n",
    "                  Bus_name VARCHAR(255) NOT NULL,\n",
    "                  Bus_type VARCHAR(255) ,\n",
    "                  Start_time VARCHAR(255) NOT NULL,\n",
    "                  End_time VARCHAR(255) NOT NULL,\n",
    "                  Total_duration VARCHAR(255) NOT NULL,\n",
    "                  Price FLOAT NULL,\n",
    "                  Seats_Available VARCHAR(255) NOT NULL,\n",
    "                  Ratings Float NULL,\n",
    "                  Route_link VARCHAR(255) NULL,\n",
    "                  Route_name VARCHAR(255) NULL\n",
    "                  )''')\n",
    "print(\"Table Created successfully\")"
   ]
  },
  {
   "cell_type": "code",
   "execution_count": 59,
   "id": "ef71c8ac-ce7e-4507-8612-8969c50c0669",
   "metadata": {},
   "outputs": [
    {
     "name": "stdout",
     "output_type": "stream",
     "text": [
      "Values inserted successfully\n"
     ]
    }
   ],
   "source": [
    "# SQL query to insert data into bus_details table\n",
    "insert_query = '''INSERT INTO bus_details(\n",
    "                    Bus_name,\n",
    "                    Bus_type,\n",
    "                    Start_time,\n",
    "                    End_time,\n",
    "                    Total_duration,\n",
    "                    Price,\n",
    "                    Seats_Available,\n",
    "                    Ratings,\n",
    "                    Route_link,\n",
    "                    Route_name)\n",
    "                  VALUES(%s, %s, %s, %s, %s, %s, %s, %s, %s, %s)'''\n",
    "data = Final_df.values.tolist()\n",
    "\n",
    "my_cursor.executemany(insert_query, data)\n",
    "\n",
    "results = my_cursor.fetchall()\n",
    "db_connection.commit()\n",
    "\n",
    "print(\"Values inserted successfully\")"
   ]
  },
  {
   "cell_type": "code",
   "execution_count": 5,
   "id": "1e65c38f-5640-4b74-acdb-0c31a073cb73",
   "metadata": {},
   "outputs": [
    {
     "data": {
      "text/plain": [
       "<mysql.connector.connection_cext.CMySQLConnection at 0x1c7aec57da0>"
      ]
     },
     "execution_count": 5,
     "metadata": {},
     "output_type": "execute_result"
    }
   ],
   "source": []
  },
  {
   "cell_type": "code",
   "execution_count": null,
   "id": "86e20c49-825a-44e2-ba2a-07129817c491",
   "metadata": {},
   "outputs": [],
   "source": []
  }
 ],
 "metadata": {
  "kernelspec": {
   "display_name": "Python 3 (ipykernel)",
   "language": "python",
   "name": "python3"
  },
  "language_info": {
   "codemirror_mode": {
    "name": "ipython",
    "version": 3
   },
   "file_extension": ".py",
   "mimetype": "text/x-python",
   "name": "python",
   "nbconvert_exporter": "python",
   "pygments_lexer": "ipython3",
   "version": "3.12.4"
  }
 },
 "nbformat": 4,
 "nbformat_minor": 5
}
